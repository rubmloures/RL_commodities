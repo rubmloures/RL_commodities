{
 "cells": [
  {
   "cell_type": "markdown",
   "id": "88a91242",
   "metadata": {},
   "source": [
    "# Parte 1 - Coleta de Dados"
   ]
  },
  {
   "cell_type": "markdown",
   "id": "73dcdaa9",
   "metadata": {},
   "source": [
    "## a) Bibliotecas utilizadas:"
   ]
  },
  {
   "cell_type": "code",
   "execution_count": 12,
   "id": "cca945cf",
   "metadata": {},
   "outputs": [],
   "source": [
    "#%pip install pandas_datareader  basedosdados"
   ]
  },
  {
   "cell_type": "code",
   "execution_count": 13,
   "id": "70a4e4a1",
   "metadata": {},
   "outputs": [],
   "source": [
    "# Importa as bibliotecas\n",
    "#%pip install python-bcb\n",
    "import pandas as pd\n",
    "import numpy as np\n",
    "import matplotlib.pyplot as plt\n",
    "import seaborn as sns\n"
   ]
  },
  {
   "cell_type": "markdown",
   "id": "0fb86706",
   "metadata": {},
   "source": [
    "**Variáveis explicativas principais**\n",
    "   A) **Mercado físico e de futuros**\n",
    "\n",
    "   | Coluna               | Descrição                                                                           |\n",
    "   | -------------------- | ----------------------------------------------------------------------------------- |\n",
    "   | `soy_global_usd`     | Preço médio da soja no CBOT (Chicago Board of Trade) em USD/bushel no mesmo período |\n",
    "   | `soy_domestic_brl`   | Preço doméstico em BRL/ton (ex. CEPEA)                                              |\n",
    "   | `exchange_usd_brl`   | Cotação média USD/BRL no período                                                    |\n",
    "   | `export_volume_t`    | Volume exportado de soja do Brasil (toneladas)                                      |\n",
    "   | `stock_to_use_ratio` | Índice estoque/uso global de soja (USDA)                                            |\n",
    "\n",
    "   B) **Fatores macroeconômicos e logísticos**\n",
    "\n",
    "   | Coluna              | Descrição                                       |\n",
    "   | ------------------- | ----------------------------------------------- |\n",
    "   | `brent_usd_bbl`     | Preço médio do petróleo Brent (USD/barril)      |\n",
    "   | `freight_index`     | Índice de frete marítimo (ex. Baltic Dry Index) |\n",
    "   | `interest_rate_brl` | Taxa Selic (% ao ano) ou CDI (%)                |\n",
    "   | `inflation_brl_yoy` | IPCA acumulado ano a ano (%)                    |\n",
    "\n",
    "   C) **Condições climáticas (impacto na oferta)**\n",
    "\n",
    "   | Coluna            | Descrição                                                        |\n",
    "   | ----------------- | ---------------------------------------------------------------- |\n",
    "   | `precip_mm`       | Precipitação média mensal nas principais regiões produtoras (mm) |\n",
    "   | `temp_anomaly_c`  | Anomalia de temperatura média mensal (°C)                        |\n",
    "   | `area_planted_ha` | Área plantada de soja no Brasil (hectares, CONAB)                |"
   ]
  },
  {
   "cell_type": "markdown",
   "id": "02e2a248",
   "metadata": {},
   "source": [
    "## b) Coleta de dados por setor:"
   ]
  },
  {
   "cell_type": "code",
   "execution_count": 14,
   "id": "d43c2273",
   "metadata": {},
   "outputs": [],
   "source": [
    "# a) soy_global_usd | Preço médio da soja no CBOT (Chicago Board of Trade) em USD/bushel no mesmo período\n",
    "soy_global_usd_data  = r\"D:\\Documentos e Arquivos\\Apresentação_TMQUANT\\Datasets\\Dataset\\soy_global_usd_data.xls\"\n",
    "# b) exchange_usd_brl | Taxa de câmbio USD/BRL no mesmo período\n",
    "exchange_usd_brl  = r\"D:\\Documentos e Arquivos\\Apresentação_TMQUANT\\Datasets\\Dataset\\exchange_usd_brl_data.csv\"\n",
    "# c) export_volume_t | Volume de exportação de soja em toneladas no mesmo período\n",
    "export_volume_t = r\"D:\\Documentos e Arquivos\\Apresentação_TMQUANT\\Datasets\\Dataset\\export_volume_t.xls\"\n",
    "# d) brent_usd_bbl | Preço do petróleo Brent em USD/barril no mesmo período\n",
    "brent_usd_bbl = r\"D:\\Documentos e Arquivos\\Apresentação_TMQUANT\\Datasets\\Dataset\\brent_usd_bbl_data.csv\"\n",
    "#  e) freight_index_data | Índice de frete marítimo (Baltic Dry Index) no mesmo período\n",
    "freight_index_data  = r\"D:\\Documentos e Arquivos\\Apresentação_TMQUANT\\Datasets\\Dataset\\freight_index_data.csv\"\n",
    "\n",
    "\n",
    "\n",
    "interest_rate_brl  = r\"D:\\Documentos e Arquivos\\Apresentação_TMQUANT\\Datasets\\Dataset\\interest_rate_brl.csv\"\n",
    "inflation_brl_yoy  = r\"D:\\Documentos e Arquivos\\Apresentação_TMQUANT\\Datasets\\Dataset\\inflation_brl_yoy_data.xls\"\n",
    "area_planted_ha = r\"D:\\Documentos e Arquivos\\Apresentação_TMQUANT\\Datasets\\Dataset\\area_planted_ha_data.xls\"\n",
    "soy_future_usd =  r\"D:\\Documentos e Arquivos\\Apresentação_TMQUANT\\Datasets\\Dataset\\soy_global_usd_data.csv\"\n",
    "area_harvested_ha_data = r\"D:\\Documentos e Arquivos\\Apresentação_TMQUANT\\Datasets\\Dataset\\area_harvested_ha_data.xls\"\n"
   ]
  },
  {
   "cell_type": "code",
   "execution_count": 15,
   "id": "85bb5b59",
   "metadata": {},
   "outputs": [
    {
     "data": {
      "text/html": [
       "<div>\n",
       "<style scoped>\n",
       "    .dataframe tbody tr th:only-of-type {\n",
       "        vertical-align: middle;\n",
       "    }\n",
       "\n",
       "    .dataframe tbody tr th {\n",
       "        vertical-align: top;\n",
       "    }\n",
       "\n",
       "    .dataframe thead th {\n",
       "        text-align: right;\n",
       "    }\n",
       "</style>\n",
       "<table border=\"1\" class=\"dataframe\">\n",
       "  <thead>\n",
       "    <tr style=\"text-align: right;\">\n",
       "      <th></th>\n",
       "      <th>Data</th>\n",
       "      <th>À vista US$</th>\n",
       "    </tr>\n",
       "  </thead>\n",
       "  <tbody>\n",
       "    <tr>\n",
       "      <th>0</th>\n",
       "      <td>2006-03-13</td>\n",
       "      <td>12.96</td>\n",
       "    </tr>\n",
       "    <tr>\n",
       "      <th>1</th>\n",
       "      <td>2006-03-14</td>\n",
       "      <td>12.91</td>\n",
       "    </tr>\n",
       "    <tr>\n",
       "      <th>2</th>\n",
       "      <td>2006-03-15</td>\n",
       "      <td>13.00</td>\n",
       "    </tr>\n",
       "    <tr>\n",
       "      <th>3</th>\n",
       "      <td>2006-03-16</td>\n",
       "      <td>12.78</td>\n",
       "    </tr>\n",
       "    <tr>\n",
       "      <th>4</th>\n",
       "      <td>2006-03-17</td>\n",
       "      <td>12.68</td>\n",
       "    </tr>\n",
       "  </tbody>\n",
       "</table>\n",
       "</div>"
      ],
      "text/plain": [
       "        Data  À vista US$\n",
       "0 2006-03-13        12.96\n",
       "1 2006-03-14        12.91\n",
       "2 2006-03-15        13.00\n",
       "3 2006-03-16        12.78\n",
       "4 2006-03-17        12.68"
      ]
     },
     "execution_count": 15,
     "metadata": {},
     "output_type": "execute_result"
    }
   ],
   "source": [
    "# soy_global_usd | Preço médio da soja no CBOT (Chicago Board of Trade) em USD/bushel no mesmo período\n",
    "\n",
    "soy_global_usd = pd.read_excel(soy_global_usd_data, sheet_name='Plan 1', skiprows=0)\n",
    "# Converte a coluna 'Data' para datetime\n",
    "soy_global_usd['Data'] = pd.to_datetime(soy_global_usd['Data'], dayfirst=True, errors='coerce')\n",
    "soy_global_usd.head()\n"
   ]
  },
  {
   "cell_type": "code",
   "execution_count": 17,
   "id": "90d2fec0",
   "metadata": {},
   "outputs": [],
   "source": [
    "# `soy_future_usd` | Preço Futuro em Dólar\n",
    "#soy_future_usd_df = pd.read_csv(soy_future_usd, sep=',', encoding='latin1')\n",
    "## Remove a coluna 'Vol.' se existir\n",
    "#if 'Vol.' in soy_future_usd_df.columns:\n",
    "    #soy_future_usd_df = soy_future_usd_df.drop(columns=['Vol.'])\n",
    "#\n",
    "## Converte a coluna 'Data' para datetime\n",
    "#soy_future_usd_df['Data'] = pd.to_datetime(soy_future_usd_df['Data'], format='%d.%m.%Y')\n",
    "#\n",
    "## Converte as colunas numéricas de string para float (substituindo ',' por '.')\n",
    "#cols_numericas = ['Último', 'Abertura', 'Máxima', 'Mínima']\n",
    "#for col in cols_numericas:\n",
    "    #soy_future_usd_df[col] = soy_future_usd_df[col].str.replace('.', '', regex=False).str.replace(',', '.', regex=False)\n",
    "    #soy_future_usd_df[col] = pd.to_numeric(soy_future_usd_df[col], errors='coerce')\n",
    "#\n",
    "## Remove o símbolo '%' e converte 'Var%' para float\n",
    "#soy_future_usd_df['Var%'] = soy_future_usd_df['Var%'].str.replace('%', '', regex=False).str.replace(',', '.', regex=False)\n",
    "#soy_future_usd_df['Var%'] = pd.to_numeric(soy_future_usd_df['Var%'], errors='coerce')\n",
    "#soy_future_usd_df.head()\n"
   ]
  },
  {
   "cell_type": "code",
   "execution_count": 18,
   "id": "99e64c0c",
   "metadata": {
    "vscode": {
     "languageId": "ruby"
    }
   },
   "outputs": [
    {
     "data": {
      "text/html": [
       "<div>\n",
       "<style scoped>\n",
       "    .dataframe tbody tr th:only-of-type {\n",
       "        vertical-align: middle;\n",
       "    }\n",
       "\n",
       "    .dataframe tbody tr th {\n",
       "        vertical-align: top;\n",
       "    }\n",
       "\n",
       "    .dataframe thead th {\n",
       "        text-align: right;\n",
       "    }\n",
       "</style>\n",
       "<table border=\"1\" class=\"dataframe\">\n",
       "  <thead>\n",
       "    <tr style=\"text-align: right;\">\n",
       "      <th></th>\n",
       "      <th>DateTime</th>\n",
       "      <th>Taxa de câmbio nominal</th>\n",
       "    </tr>\n",
       "  </thead>\n",
       "  <tbody>\n",
       "    <tr>\n",
       "      <th>0</th>\n",
       "      <td>2015-06-08</td>\n",
       "      <td>3.1190</td>\n",
       "    </tr>\n",
       "    <tr>\n",
       "      <th>1</th>\n",
       "      <td>2015-06-09</td>\n",
       "      <td>3.0991</td>\n",
       "    </tr>\n",
       "    <tr>\n",
       "      <th>2</th>\n",
       "      <td>2015-06-10</td>\n",
       "      <td>3.0843</td>\n",
       "    </tr>\n",
       "    <tr>\n",
       "      <th>3</th>\n",
       "      <td>2015-06-11</td>\n",
       "      <td>3.1514</td>\n",
       "    </tr>\n",
       "    <tr>\n",
       "      <th>4</th>\n",
       "      <td>2015-06-12</td>\n",
       "      <td>3.1107</td>\n",
       "    </tr>\n",
       "  </tbody>\n",
       "</table>\n",
       "</div>"
      ],
      "text/plain": [
       "    DateTime  Taxa de câmbio nominal\n",
       "0 2015-06-08                  3.1190\n",
       "1 2015-06-09                  3.0991\n",
       "2 2015-06-10                  3.0843\n",
       "3 2015-06-11                  3.1514\n",
       "4 2015-06-12                  3.1107"
      ]
     },
     "execution_count": 18,
     "metadata": {},
     "output_type": "execute_result"
    }
   ],
   "source": [
    "# exchange_usd_brl` | Cotação média USD/BRL no período \n",
    "exchange_usd_brl = pd.read_csv(exchange_usd_brl, sep=',')\n",
    "# A coluna correta do DataFrame é 'DateTime', não 'data'\n",
    "exchange_usd_brl['DateTime'] = pd.to_datetime(exchange_usd_brl['DateTime'], format='%Y-%m-%d', errors='coerce')\n",
    "exchange_usd_brl.head()"
   ]
  },
  {
   "cell_type": "code",
   "execution_count": 19,
   "id": "7abbdcd6",
   "metadata": {},
   "outputs": [
    {
     "data": {
      "text/html": [
       "<div>\n",
       "<style scoped>\n",
       "    .dataframe tbody tr th:only-of-type {\n",
       "        vertical-align: middle;\n",
       "    }\n",
       "\n",
       "    .dataframe tbody tr th {\n",
       "        vertical-align: top;\n",
       "    }\n",
       "\n",
       "    .dataframe thead th {\n",
       "        text-align: right;\n",
       "    }\n",
       "</style>\n",
       "<table border=\"1\" class=\"dataframe\">\n",
       "  <thead>\n",
       "    <tr style=\"text-align: right;\">\n",
       "      <th></th>\n",
       "      <th>REGIÃO/UF</th>\n",
       "      <th>1977</th>\n",
       "      <th>1978</th>\n",
       "      <th>1979</th>\n",
       "      <th>1980</th>\n",
       "      <th>1981</th>\n",
       "      <th>1982</th>\n",
       "      <th>1983</th>\n",
       "      <th>1984</th>\n",
       "      <th>1985</th>\n",
       "      <th>...</th>\n",
       "      <th>2016</th>\n",
       "      <th>2017</th>\n",
       "      <th>2018</th>\n",
       "      <th>2019</th>\n",
       "      <th>2020</th>\n",
       "      <th>2021</th>\n",
       "      <th>2022</th>\n",
       "      <th>2023</th>\n",
       "      <th>2024</th>\n",
       "      <th>2025</th>\n",
       "    </tr>\n",
       "  </thead>\n",
       "  <tbody>\n",
       "    <tr>\n",
       "      <th>0</th>\n",
       "      <td>NORTE</td>\n",
       "      <td>0.0</td>\n",
       "      <td>0.0</td>\n",
       "      <td>0.0</td>\n",
       "      <td>0.0</td>\n",
       "      <td>0.0</td>\n",
       "      <td>0.0</td>\n",
       "      <td>0.0</td>\n",
       "      <td>0.0</td>\n",
       "      <td>0.0</td>\n",
       "      <td>...</td>\n",
       "      <td>3818.90014</td>\n",
       "      <td>5536.4972</td>\n",
       "      <td>6012.6000</td>\n",
       "      <td>6147.0</td>\n",
       "      <td>6902.1</td>\n",
       "      <td>7672.3</td>\n",
       "      <td>9044.1</td>\n",
       "      <td>10558.5</td>\n",
       "      <td>11409.1</td>\n",
       "      <td>13304.2</td>\n",
       "    </tr>\n",
       "    <tr>\n",
       "      <th>1</th>\n",
       "      <td>NORDESTE</td>\n",
       "      <td>0.0</td>\n",
       "      <td>0.0</td>\n",
       "      <td>0.0</td>\n",
       "      <td>2.2</td>\n",
       "      <td>3.8</td>\n",
       "      <td>0.4</td>\n",
       "      <td>4.5</td>\n",
       "      <td>36.4</td>\n",
       "      <td>84.6</td>\n",
       "      <td>...</td>\n",
       "      <td>5107.08270</td>\n",
       "      <td>9644.7472</td>\n",
       "      <td>11903.1145</td>\n",
       "      <td>11034.9</td>\n",
       "      <td>11819.6</td>\n",
       "      <td>12852.2</td>\n",
       "      <td>13876.9</td>\n",
       "      <td>15494.3</td>\n",
       "      <td>15769.3</td>\n",
       "      <td>17534.2</td>\n",
       "    </tr>\n",
       "    <tr>\n",
       "      <th>2</th>\n",
       "      <td>CENTRO-OESTE</td>\n",
       "      <td>540.0</td>\n",
       "      <td>578.0</td>\n",
       "      <td>1100.0</td>\n",
       "      <td>1850.4</td>\n",
       "      <td>2097.0</td>\n",
       "      <td>2437.4</td>\n",
       "      <td>3137.0</td>\n",
       "      <td>3828.8</td>\n",
       "      <td>5572.7</td>\n",
       "      <td>...</td>\n",
       "      <td>43999.41200</td>\n",
       "      <td>50642.6397</td>\n",
       "      <td>55398.4141</td>\n",
       "      <td>55058.1</td>\n",
       "      <td>61736.9</td>\n",
       "      <td>65302.2</td>\n",
       "      <td>68391.6</td>\n",
       "      <td>78125.9</td>\n",
       "      <td>68125.4</td>\n",
       "      <td>83997.5</td>\n",
       "    </tr>\n",
       "    <tr>\n",
       "      <th>3</th>\n",
       "      <td>SUDESTE</td>\n",
       "      <td>875.0</td>\n",
       "      <td>882.0</td>\n",
       "      <td>1020.0</td>\n",
       "      <td>1305.0</td>\n",
       "      <td>1317.0</td>\n",
       "      <td>1380.6</td>\n",
       "      <td>1430.2</td>\n",
       "      <td>1360.0</td>\n",
       "      <td>1816.7</td>\n",
       "      <td>...</td>\n",
       "      <td>7591.10990</td>\n",
       "      <td>8151.5365</td>\n",
       "      <td>9157.2186</td>\n",
       "      <td>8613.9</td>\n",
       "      <td>10131.1</td>\n",
       "      <td>11321.1</td>\n",
       "      <td>11767.0</td>\n",
       "      <td>13257.9</td>\n",
       "      <td>11443.7</td>\n",
       "      <td>14633.0</td>\n",
       "    </tr>\n",
       "    <tr>\n",
       "      <th>4</th>\n",
       "      <td>SUL</td>\n",
       "      <td>10730.0</td>\n",
       "      <td>8266.0</td>\n",
       "      <td>8080.0</td>\n",
       "      <td>11729.8</td>\n",
       "      <td>12067.0</td>\n",
       "      <td>9072.5</td>\n",
       "      <td>9961.2</td>\n",
       "      <td>10115.3</td>\n",
       "      <td>10737.5</td>\n",
       "      <td>...</td>\n",
       "      <td>35181.10010</td>\n",
       "      <td>41051.2512</td>\n",
       "      <td>40787.5261</td>\n",
       "      <td>38864.2</td>\n",
       "      <td>35294.5</td>\n",
       "      <td>43031.5</td>\n",
       "      <td>23400.0</td>\n",
       "      <td>38276.8</td>\n",
       "      <td>40973.8</td>\n",
       "      <td>38872.9</td>\n",
       "    </tr>\n",
       "  </tbody>\n",
       "</table>\n",
       "<p>5 rows × 50 columns</p>\n",
       "</div>"
      ],
      "text/plain": [
       "      REGIÃO/UF     1977    1978    1979     1980     1981    1982    1983  \\\n",
       "0         NORTE      0.0     0.0     0.0      0.0      0.0     0.0     0.0   \n",
       "1      NORDESTE      0.0     0.0     0.0      2.2      3.8     0.4     4.5   \n",
       "2  CENTRO-OESTE    540.0   578.0  1100.0   1850.4   2097.0  2437.4  3137.0   \n",
       "3       SUDESTE    875.0   882.0  1020.0   1305.0   1317.0  1380.6  1430.2   \n",
       "4           SUL  10730.0  8266.0  8080.0  11729.8  12067.0  9072.5  9961.2   \n",
       "\n",
       "      1984     1985  ...         2016        2017        2018     2019  \\\n",
       "0      0.0      0.0  ...   3818.90014   5536.4972   6012.6000   6147.0   \n",
       "1     36.4     84.6  ...   5107.08270   9644.7472  11903.1145  11034.9   \n",
       "2   3828.8   5572.7  ...  43999.41200  50642.6397  55398.4141  55058.1   \n",
       "3   1360.0   1816.7  ...   7591.10990   8151.5365   9157.2186   8613.9   \n",
       "4  10115.3  10737.5  ...  35181.10010  41051.2512  40787.5261  38864.2   \n",
       "\n",
       "      2020     2021     2022     2023     2024     2025  \n",
       "0   6902.1   7672.3   9044.1  10558.5  11409.1  13304.2  \n",
       "1  11819.6  12852.2  13876.9  15494.3  15769.3  17534.2  \n",
       "2  61736.9  65302.2  68391.6  78125.9  68125.4  83997.5  \n",
       "3  10131.1  11321.1  11767.0  13257.9  11443.7  14633.0  \n",
       "4  35294.5  43031.5  23400.0  38276.8  40973.8  38872.9  \n",
       "\n",
       "[5 rows x 50 columns]"
      ]
     },
     "execution_count": 19,
     "metadata": {},
     "output_type": "execute_result"
    }
   ],
   "source": [
    "# Carrega o volume de exportação de soja em toneladas\n",
    "export_volume_t_df = pd.read_excel(export_volume_t, sheet_name='Produção', skiprows=5)\n",
    "# Exibe as primeiras linhas para conferência\n",
    "export_volume_t_df.head()"
   ]
  },
  {
   "cell_type": "code",
   "execution_count": 20,
   "id": "63c493f5",
   "metadata": {},
   "outputs": [
    {
     "data": {
      "text/html": [
       "<div>\n",
       "<style scoped>\n",
       "    .dataframe tbody tr th:only-of-type {\n",
       "        vertical-align: middle;\n",
       "    }\n",
       "\n",
       "    .dataframe tbody tr th {\n",
       "        vertical-align: top;\n",
       "    }\n",
       "\n",
       "    .dataframe thead th {\n",
       "        text-align: right;\n",
       "    }\n",
       "</style>\n",
       "<table border=\"1\" class=\"dataframe\">\n",
       "  <thead>\n",
       "    <tr style=\"text-align: right;\">\n",
       "      <th></th>\n",
       "      <th>Data</th>\n",
       "      <th>Último</th>\n",
       "      <th>Abertura</th>\n",
       "      <th>Máxima</th>\n",
       "      <th>Mínima</th>\n",
       "      <th>Vol.</th>\n",
       "      <th>Var%</th>\n",
       "    </tr>\n",
       "  </thead>\n",
       "  <tbody>\n",
       "    <tr>\n",
       "      <th>0</th>\n",
       "      <td>01.06.2025</td>\n",
       "      <td>29,63</td>\n",
       "      <td>31,58</td>\n",
       "      <td>31,63</td>\n",
       "      <td>29,21</td>\n",
       "      <td>188,37M</td>\n",
       "      <td>-4,11%</td>\n",
       "    </tr>\n",
       "    <tr>\n",
       "      <th>1</th>\n",
       "      <td>01.05.2025</td>\n",
       "      <td>30,90</td>\n",
       "      <td>30,20</td>\n",
       "      <td>32,41</td>\n",
       "      <td>29,66</td>\n",
       "      <td>777,09M</td>\n",
       "      <td>3,03%</td>\n",
       "    </tr>\n",
       "    <tr>\n",
       "      <th>2</th>\n",
       "      <td>01.04.2025</td>\n",
       "      <td>29,99</td>\n",
       "      <td>36,45</td>\n",
       "      <td>37,10</td>\n",
       "      <td>29,96</td>\n",
       "      <td>1,15B</td>\n",
       "      <td>-17,40%</td>\n",
       "    </tr>\n",
       "    <tr>\n",
       "      <th>3</th>\n",
       "      <td>01.03.2025</td>\n",
       "      <td>36,31</td>\n",
       "      <td>34,22</td>\n",
       "      <td>37,10</td>\n",
       "      <td>33,13</td>\n",
       "      <td>594,63M</td>\n",
       "      <td>3,42%</td>\n",
       "    </tr>\n",
       "    <tr>\n",
       "      <th>4</th>\n",
       "      <td>01.02.2025</td>\n",
       "      <td>35,11</td>\n",
       "      <td>36,90</td>\n",
       "      <td>37,78</td>\n",
       "      <td>34,67</td>\n",
       "      <td>673,99M</td>\n",
       "      <td>-4,67%</td>\n",
       "    </tr>\n",
       "  </tbody>\n",
       "</table>\n",
       "</div>"
      ],
      "text/plain": [
       "         Data Último Abertura Máxima Mínima     Vol.     Var%\n",
       "0  01.06.2025  29,63    31,58  31,63  29,21  188,37M   -4,11%\n",
       "1  01.05.2025  30,90    30,20  32,41  29,66  777,09M    3,03%\n",
       "2  01.04.2025  29,99    36,45  37,10  29,96    1,15B  -17,40%\n",
       "3  01.03.2025  36,31    34,22  37,10  33,13  594,63M    3,42%\n",
       "4  01.02.2025  35,11    36,90  37,78  34,67  673,99M   -4,67%"
      ]
     },
     "execution_count": 20,
     "metadata": {},
     "output_type": "execute_result"
    }
   ],
   "source": [
    "# Carrega o preço do petróleo Brent em USD/barril\n",
    "brent_usd_bbl_df = pd.read_csv(brent_usd_bbl, sep=',')\n",
    "# Exibe as primeiras linhas para conferência\n",
    "brent_usd_bbl_df.head()"
   ]
  },
  {
   "cell_type": "code",
   "execution_count": 23,
   "id": "b1afe977",
   "metadata": {},
   "outputs": [
    {
     "ename": "TypeError",
     "evalue": "argument of type 'method' is not iterable",
     "output_type": "error",
     "traceback": [
      "\u001b[1;31m---------------------------------------------------------------------------\u001b[0m",
      "\u001b[1;31mTypeError\u001b[0m                                 Traceback (most recent call last)",
      "Cell \u001b[1;32mIn[23], line 1\u001b[0m\n\u001b[1;32m----> 1\u001b[0m freight_index_data \u001b[38;5;241m=\u001b[39m \u001b[43mpd\u001b[49m\u001b[38;5;241;43m.\u001b[39;49m\u001b[43mread_csv\u001b[49m\u001b[43m(\u001b[49m\u001b[43mfreight_index_data\u001b[49m\u001b[43m,\u001b[49m\u001b[43m \u001b[49m\u001b[43msep\u001b[49m\u001b[38;5;241;43m=\u001b[39;49m\u001b[38;5;124;43m'\u001b[39;49m\u001b[38;5;124;43m,\u001b[39;49m\u001b[38;5;124;43m'\u001b[39;49m\u001b[43m)\u001b[49m\n\u001b[0;32m      3\u001b[0m freight_index_data \u001b[38;5;241m.\u001b[39mhead()\n",
      "File \u001b[1;32md:\\Programas\\Python e Visual Basics\\Anaconda.Python\\envs\\Ambiente\\Lib\\site-packages\\pandas\\io\\parsers\\readers.py:1026\u001b[0m, in \u001b[0;36mread_csv\u001b[1;34m(filepath_or_buffer, sep, delimiter, header, names, index_col, usecols, dtype, engine, converters, true_values, false_values, skipinitialspace, skiprows, skipfooter, nrows, na_values, keep_default_na, na_filter, verbose, skip_blank_lines, parse_dates, infer_datetime_format, keep_date_col, date_parser, date_format, dayfirst, cache_dates, iterator, chunksize, compression, thousands, decimal, lineterminator, quotechar, quoting, doublequote, escapechar, comment, encoding, encoding_errors, dialect, on_bad_lines, delim_whitespace, low_memory, memory_map, float_precision, storage_options, dtype_backend)\u001b[0m\n\u001b[0;32m   1013\u001b[0m kwds_defaults \u001b[38;5;241m=\u001b[39m _refine_defaults_read(\n\u001b[0;32m   1014\u001b[0m     dialect,\n\u001b[0;32m   1015\u001b[0m     delimiter,\n\u001b[1;32m   (...)\u001b[0m\n\u001b[0;32m   1022\u001b[0m     dtype_backend\u001b[38;5;241m=\u001b[39mdtype_backend,\n\u001b[0;32m   1023\u001b[0m )\n\u001b[0;32m   1024\u001b[0m kwds\u001b[38;5;241m.\u001b[39mupdate(kwds_defaults)\n\u001b[1;32m-> 1026\u001b[0m \u001b[38;5;28;01mreturn\u001b[39;00m \u001b[43m_read\u001b[49m\u001b[43m(\u001b[49m\u001b[43mfilepath_or_buffer\u001b[49m\u001b[43m,\u001b[49m\u001b[43m \u001b[49m\u001b[43mkwds\u001b[49m\u001b[43m)\u001b[49m\n",
      "File \u001b[1;32md:\\Programas\\Python e Visual Basics\\Anaconda.Python\\envs\\Ambiente\\Lib\\site-packages\\pandas\\io\\parsers\\readers.py:620\u001b[0m, in \u001b[0;36m_read\u001b[1;34m(filepath_or_buffer, kwds)\u001b[0m\n\u001b[0;32m    617\u001b[0m _validate_names(kwds\u001b[38;5;241m.\u001b[39mget(\u001b[38;5;124m\"\u001b[39m\u001b[38;5;124mnames\u001b[39m\u001b[38;5;124m\"\u001b[39m, \u001b[38;5;28;01mNone\u001b[39;00m))\n\u001b[0;32m    619\u001b[0m \u001b[38;5;66;03m# Create the parser.\u001b[39;00m\n\u001b[1;32m--> 620\u001b[0m parser \u001b[38;5;241m=\u001b[39m \u001b[43mTextFileReader\u001b[49m\u001b[43m(\u001b[49m\u001b[43mfilepath_or_buffer\u001b[49m\u001b[43m,\u001b[49m\u001b[43m \u001b[49m\u001b[38;5;241;43m*\u001b[39;49m\u001b[38;5;241;43m*\u001b[39;49m\u001b[43mkwds\u001b[49m\u001b[43m)\u001b[49m\n\u001b[0;32m    622\u001b[0m \u001b[38;5;28;01mif\u001b[39;00m chunksize \u001b[38;5;129;01mor\u001b[39;00m iterator:\n\u001b[0;32m    623\u001b[0m     \u001b[38;5;28;01mreturn\u001b[39;00m parser\n",
      "File \u001b[1;32md:\\Programas\\Python e Visual Basics\\Anaconda.Python\\envs\\Ambiente\\Lib\\site-packages\\pandas\\io\\parsers\\readers.py:1620\u001b[0m, in \u001b[0;36mTextFileReader.__init__\u001b[1;34m(self, f, engine, **kwds)\u001b[0m\n\u001b[0;32m   1617\u001b[0m     \u001b[38;5;28mself\u001b[39m\u001b[38;5;241m.\u001b[39moptions[\u001b[38;5;124m\"\u001b[39m\u001b[38;5;124mhas_index_names\u001b[39m\u001b[38;5;124m\"\u001b[39m] \u001b[38;5;241m=\u001b[39m kwds[\u001b[38;5;124m\"\u001b[39m\u001b[38;5;124mhas_index_names\u001b[39m\u001b[38;5;124m\"\u001b[39m]\n\u001b[0;32m   1619\u001b[0m \u001b[38;5;28mself\u001b[39m\u001b[38;5;241m.\u001b[39mhandles: IOHandles \u001b[38;5;241m|\u001b[39m \u001b[38;5;28;01mNone\u001b[39;00m \u001b[38;5;241m=\u001b[39m \u001b[38;5;28;01mNone\u001b[39;00m\n\u001b[1;32m-> 1620\u001b[0m \u001b[38;5;28mself\u001b[39m\u001b[38;5;241m.\u001b[39m_engine \u001b[38;5;241m=\u001b[39m \u001b[38;5;28;43mself\u001b[39;49m\u001b[38;5;241;43m.\u001b[39;49m\u001b[43m_make_engine\u001b[49m\u001b[43m(\u001b[49m\u001b[43mf\u001b[49m\u001b[43m,\u001b[49m\u001b[43m \u001b[49m\u001b[38;5;28;43mself\u001b[39;49m\u001b[38;5;241;43m.\u001b[39;49m\u001b[43mengine\u001b[49m\u001b[43m)\u001b[49m\n",
      "File \u001b[1;32md:\\Programas\\Python e Visual Basics\\Anaconda.Python\\envs\\Ambiente\\Lib\\site-packages\\pandas\\io\\parsers\\readers.py:1880\u001b[0m, in \u001b[0;36mTextFileReader._make_engine\u001b[1;34m(self, f, engine)\u001b[0m\n\u001b[0;32m   1878\u001b[0m     \u001b[38;5;28;01mif\u001b[39;00m \u001b[38;5;124m\"\u001b[39m\u001b[38;5;124mb\u001b[39m\u001b[38;5;124m\"\u001b[39m \u001b[38;5;129;01mnot\u001b[39;00m \u001b[38;5;129;01min\u001b[39;00m mode:\n\u001b[0;32m   1879\u001b[0m         mode \u001b[38;5;241m+\u001b[39m\u001b[38;5;241m=\u001b[39m \u001b[38;5;124m\"\u001b[39m\u001b[38;5;124mb\u001b[39m\u001b[38;5;124m\"\u001b[39m\n\u001b[1;32m-> 1880\u001b[0m \u001b[38;5;28mself\u001b[39m\u001b[38;5;241m.\u001b[39mhandles \u001b[38;5;241m=\u001b[39m \u001b[43mget_handle\u001b[49m\u001b[43m(\u001b[49m\n\u001b[0;32m   1881\u001b[0m \u001b[43m    \u001b[49m\u001b[43mf\u001b[49m\u001b[43m,\u001b[49m\n\u001b[0;32m   1882\u001b[0m \u001b[43m    \u001b[49m\u001b[43mmode\u001b[49m\u001b[43m,\u001b[49m\n\u001b[0;32m   1883\u001b[0m \u001b[43m    \u001b[49m\u001b[43mencoding\u001b[49m\u001b[38;5;241;43m=\u001b[39;49m\u001b[38;5;28;43mself\u001b[39;49m\u001b[38;5;241;43m.\u001b[39;49m\u001b[43moptions\u001b[49m\u001b[38;5;241;43m.\u001b[39;49m\u001b[43mget\u001b[49m\u001b[43m(\u001b[49m\u001b[38;5;124;43m\"\u001b[39;49m\u001b[38;5;124;43mencoding\u001b[39;49m\u001b[38;5;124;43m\"\u001b[39;49m\u001b[43m,\u001b[49m\u001b[43m \u001b[49m\u001b[38;5;28;43;01mNone\u001b[39;49;00m\u001b[43m)\u001b[49m\u001b[43m,\u001b[49m\n\u001b[0;32m   1884\u001b[0m \u001b[43m    \u001b[49m\u001b[43mcompression\u001b[49m\u001b[38;5;241;43m=\u001b[39;49m\u001b[38;5;28;43mself\u001b[39;49m\u001b[38;5;241;43m.\u001b[39;49m\u001b[43moptions\u001b[49m\u001b[38;5;241;43m.\u001b[39;49m\u001b[43mget\u001b[49m\u001b[43m(\u001b[49m\u001b[38;5;124;43m\"\u001b[39;49m\u001b[38;5;124;43mcompression\u001b[39;49m\u001b[38;5;124;43m\"\u001b[39;49m\u001b[43m,\u001b[49m\u001b[43m \u001b[49m\u001b[38;5;28;43;01mNone\u001b[39;49;00m\u001b[43m)\u001b[49m\u001b[43m,\u001b[49m\n\u001b[0;32m   1885\u001b[0m \u001b[43m    \u001b[49m\u001b[43mmemory_map\u001b[49m\u001b[38;5;241;43m=\u001b[39;49m\u001b[38;5;28;43mself\u001b[39;49m\u001b[38;5;241;43m.\u001b[39;49m\u001b[43moptions\u001b[49m\u001b[38;5;241;43m.\u001b[39;49m\u001b[43mget\u001b[49m\u001b[43m(\u001b[49m\u001b[38;5;124;43m\"\u001b[39;49m\u001b[38;5;124;43mmemory_map\u001b[39;49m\u001b[38;5;124;43m\"\u001b[39;49m\u001b[43m,\u001b[49m\u001b[43m \u001b[49m\u001b[38;5;28;43;01mFalse\u001b[39;49;00m\u001b[43m)\u001b[49m\u001b[43m,\u001b[49m\n\u001b[0;32m   1886\u001b[0m \u001b[43m    \u001b[49m\u001b[43mis_text\u001b[49m\u001b[38;5;241;43m=\u001b[39;49m\u001b[43mis_text\u001b[49m\u001b[43m,\u001b[49m\n\u001b[0;32m   1887\u001b[0m \u001b[43m    \u001b[49m\u001b[43merrors\u001b[49m\u001b[38;5;241;43m=\u001b[39;49m\u001b[38;5;28;43mself\u001b[39;49m\u001b[38;5;241;43m.\u001b[39;49m\u001b[43moptions\u001b[49m\u001b[38;5;241;43m.\u001b[39;49m\u001b[43mget\u001b[49m\u001b[43m(\u001b[49m\u001b[38;5;124;43m\"\u001b[39;49m\u001b[38;5;124;43mencoding_errors\u001b[39;49m\u001b[38;5;124;43m\"\u001b[39;49m\u001b[43m,\u001b[49m\u001b[43m \u001b[49m\u001b[38;5;124;43m\"\u001b[39;49m\u001b[38;5;124;43mstrict\u001b[39;49m\u001b[38;5;124;43m\"\u001b[39;49m\u001b[43m)\u001b[49m\u001b[43m,\u001b[49m\n\u001b[0;32m   1888\u001b[0m \u001b[43m    \u001b[49m\u001b[43mstorage_options\u001b[49m\u001b[38;5;241;43m=\u001b[39;49m\u001b[38;5;28;43mself\u001b[39;49m\u001b[38;5;241;43m.\u001b[39;49m\u001b[43moptions\u001b[49m\u001b[38;5;241;43m.\u001b[39;49m\u001b[43mget\u001b[49m\u001b[43m(\u001b[49m\u001b[38;5;124;43m\"\u001b[39;49m\u001b[38;5;124;43mstorage_options\u001b[39;49m\u001b[38;5;124;43m\"\u001b[39;49m\u001b[43m,\u001b[49m\u001b[43m \u001b[49m\u001b[38;5;28;43;01mNone\u001b[39;49;00m\u001b[43m)\u001b[49m\u001b[43m,\u001b[49m\n\u001b[0;32m   1889\u001b[0m \u001b[43m\u001b[49m\u001b[43m)\u001b[49m\n\u001b[0;32m   1890\u001b[0m \u001b[38;5;28;01massert\u001b[39;00m \u001b[38;5;28mself\u001b[39m\u001b[38;5;241m.\u001b[39mhandles \u001b[38;5;129;01mis\u001b[39;00m \u001b[38;5;129;01mnot\u001b[39;00m \u001b[38;5;28;01mNone\u001b[39;00m\n\u001b[0;32m   1891\u001b[0m f \u001b[38;5;241m=\u001b[39m \u001b[38;5;28mself\u001b[39m\u001b[38;5;241m.\u001b[39mhandles\u001b[38;5;241m.\u001b[39mhandle\n",
      "File \u001b[1;32md:\\Programas\\Python e Visual Basics\\Anaconda.Python\\envs\\Ambiente\\Lib\\site-packages\\pandas\\io\\common.py:719\u001b[0m, in \u001b[0;36mget_handle\u001b[1;34m(path_or_buf, mode, encoding, compression, memory_map, is_text, errors, storage_options)\u001b[0m\n\u001b[0;32m    716\u001b[0m errors \u001b[38;5;241m=\u001b[39m errors \u001b[38;5;129;01mor\u001b[39;00m \u001b[38;5;124m\"\u001b[39m\u001b[38;5;124mstrict\u001b[39m\u001b[38;5;124m\"\u001b[39m\n\u001b[0;32m    718\u001b[0m \u001b[38;5;66;03m# read_csv does not know whether the buffer is opened in binary/text mode\u001b[39;00m\n\u001b[1;32m--> 719\u001b[0m \u001b[38;5;28;01mif\u001b[39;00m \u001b[43m_is_binary_mode\u001b[49m\u001b[43m(\u001b[49m\u001b[43mpath_or_buf\u001b[49m\u001b[43m,\u001b[49m\u001b[43m \u001b[49m\u001b[43mmode\u001b[49m\u001b[43m)\u001b[49m \u001b[38;5;129;01mand\u001b[39;00m \u001b[38;5;124m\"\u001b[39m\u001b[38;5;124mb\u001b[39m\u001b[38;5;124m\"\u001b[39m \u001b[38;5;129;01mnot\u001b[39;00m \u001b[38;5;129;01min\u001b[39;00m mode:\n\u001b[0;32m    720\u001b[0m     mode \u001b[38;5;241m+\u001b[39m\u001b[38;5;241m=\u001b[39m \u001b[38;5;124m\"\u001b[39m\u001b[38;5;124mb\u001b[39m\u001b[38;5;124m\"\u001b[39m\n\u001b[0;32m    722\u001b[0m \u001b[38;5;66;03m# validate encoding and errors\u001b[39;00m\n",
      "File \u001b[1;32md:\\Programas\\Python e Visual Basics\\Anaconda.Python\\envs\\Ambiente\\Lib\\site-packages\\pandas\\io\\common.py:1181\u001b[0m, in \u001b[0;36m_is_binary_mode\u001b[1;34m(handle, mode)\u001b[0m\n\u001b[0;32m   1178\u001b[0m \u001b[38;5;28;01mif\u001b[39;00m \u001b[38;5;28missubclass\u001b[39m(\u001b[38;5;28mtype\u001b[39m(handle), text_classes):\n\u001b[0;32m   1179\u001b[0m     \u001b[38;5;28;01mreturn\u001b[39;00m \u001b[38;5;28;01mFalse\u001b[39;00m\n\u001b[1;32m-> 1181\u001b[0m \u001b[38;5;28;01mreturn\u001b[39;00m \u001b[38;5;28misinstance\u001b[39m(handle, _get_binary_io_classes()) \u001b[38;5;129;01mor\u001b[39;00m \u001b[38;5;124;43m\"\u001b[39;49m\u001b[38;5;124;43mb\u001b[39;49m\u001b[38;5;124;43m\"\u001b[39;49m\u001b[43m \u001b[49m\u001b[38;5;129;43;01min\u001b[39;49;00m\u001b[43m \u001b[49m\u001b[38;5;28;43mgetattr\u001b[39;49m\u001b[43m(\u001b[49m\n\u001b[0;32m   1182\u001b[0m \u001b[43m    \u001b[49m\u001b[43mhandle\u001b[49m\u001b[43m,\u001b[49m\u001b[43m \u001b[49m\u001b[38;5;124;43m\"\u001b[39;49m\u001b[38;5;124;43mmode\u001b[39;49m\u001b[38;5;124;43m\"\u001b[39;49m\u001b[43m,\u001b[49m\u001b[43m \u001b[49m\u001b[43mmode\u001b[49m\n\u001b[0;32m   1183\u001b[0m \u001b[43m\u001b[49m\u001b[43m)\u001b[49m\n",
      "\u001b[1;31mTypeError\u001b[0m: argument of type 'method' is not iterable"
     ]
    }
   ],
   "source": [
    "freight_index_data = pd.read_csv(freight_index_data, sep=',')\n",
    "\n",
    "freight_index_data .head()"
   ]
  },
  {
   "cell_type": "code",
   "execution_count": null,
   "id": "b583c492",
   "metadata": {},
   "outputs": [
    {
     "data": {
      "text/html": [
       "<div>\n",
       "<style scoped>\n",
       "    .dataframe tbody tr th:only-of-type {\n",
       "        vertical-align: middle;\n",
       "    }\n",
       "\n",
       "    .dataframe tbody tr th {\n",
       "        vertical-align: top;\n",
       "    }\n",
       "\n",
       "    .dataframe thead th {\n",
       "        text-align: right;\n",
       "    }\n",
       "</style>\n",
       "<table border=\"1\" class=\"dataframe\">\n",
       "  <thead>\n",
       "    <tr style=\"text-align: right;\">\n",
       "      <th></th>\n",
       "      <th>Data</th>\n",
       "      <th>À vista US$</th>\n",
       "    </tr>\n",
       "  </thead>\n",
       "  <tbody>\n",
       "    <tr>\n",
       "      <th>0</th>\n",
       "      <td>2006-03-13</td>\n",
       "      <td>12.96</td>\n",
       "    </tr>\n",
       "    <tr>\n",
       "      <th>1</th>\n",
       "      <td>2006-03-14</td>\n",
       "      <td>12.91</td>\n",
       "    </tr>\n",
       "    <tr>\n",
       "      <th>2</th>\n",
       "      <td>2006-03-15</td>\n",
       "      <td>13.00</td>\n",
       "    </tr>\n",
       "    <tr>\n",
       "      <th>3</th>\n",
       "      <td>2006-03-16</td>\n",
       "      <td>12.78</td>\n",
       "    </tr>\n",
       "    <tr>\n",
       "      <th>4</th>\n",
       "      <td>2006-03-17</td>\n",
       "      <td>12.68</td>\n",
       "    </tr>\n",
       "  </tbody>\n",
       "</table>\n",
       "</div>"
      ],
      "text/plain": [
       "        Data  À vista US$\n",
       "0 2006-03-13        12.96\n",
       "1 2006-03-14        12.91\n",
       "2 2006-03-15        13.00\n",
       "3 2006-03-16        12.78\n",
       "4 2006-03-17        12.68"
      ]
     },
     "metadata": {},
     "output_type": "display_data"
    }
   ],
   "source": [
    "# soy_global_usd | Preço médio da soja no CBOT (Chicago Board of Trade) em USD/bushel no mesmo período\n",
    "\n",
    "soy_global_usd = pd.read_excel(soy_global_usd_data, sheet_name='Plan 1', skiprows=0)\n",
    "# Converte a coluna 'Data' para datetime\n",
    "soy_global_usd['Data'] = pd.to_datetime(soy_global_usd['Data'], dayfirst=True, errors='coerce')\n",
    "soy_global_usd.head()\n"
   ]
  },
  {
   "cell_type": "code",
   "execution_count": null,
   "id": "704f989b",
   "metadata": {},
   "outputs": [],
   "source": []
  },
  {
   "cell_type": "code",
   "execution_count": null,
   "id": "be0efca9",
   "metadata": {
    "vscode": {
     "languageId": "ruby"
    }
   },
   "outputs": [],
   "source": []
  },
  {
   "cell_type": "markdown",
   "id": "eb2b9107",
   "metadata": {},
   "source": [
    "## C) Limpeza e Pré - Processamento de Dados:"
   ]
  },
  {
   "cell_type": "markdown",
   "id": "31e8de5b",
   "metadata": {},
   "source": [
    "### c.1) Tratamento de Valores Ausentes:"
   ]
  },
  {
   "cell_type": "markdown",
   "id": "a8bed8a0",
   "metadata": {},
   "source": [
    "### c.2) Alinhamento de Frequência:"
   ]
  },
  {
   "cell_type": "markdown",
   "id": "c89c98be",
   "metadata": {},
   "source": [
    "### c.3) Detecção e Tratamento de Outliers:"
   ]
  },
  {
   "cell_type": "markdown",
   "id": "a57f3103",
   "metadata": {},
   "source": [
    "### c.4) Transformação de Dados:"
   ]
  },
  {
   "cell_type": "markdown",
   "id": "d7e9d3ac",
   "metadata": {},
   "source": [
    "## d) Garantia da Estacionariedade dos Dados"
   ]
  },
  {
   "cell_type": "markdown",
   "id": "2c30032b",
   "metadata": {},
   "source": [
    "### d.1) Testes de Estacionariedade:\n"
   ]
  },
  {
   "cell_type": "markdown",
   "id": "3385a7dc",
   "metadata": {},
   "source": [
    "### d.2) Teste de Kwiatkowski-Phillips-Schmidt-Shin (KPSS): "
   ]
  },
  {
   "cell_type": "markdown",
   "id": "7c7c23cc",
   "metadata": {},
   "source": [
    "### d.3) Alcançando a Estacionariedade:"
   ]
  }
 ],
 "metadata": {
  "kernelspec": {
   "display_name": "Ambiente",
   "language": "python",
   "name": "python3"
  },
  "language_info": {
   "codemirror_mode": {
    "name": "ipython",
    "version": 3
   },
   "file_extension": ".py",
   "mimetype": "text/x-python",
   "name": "python",
   "nbconvert_exporter": "python",
   "pygments_lexer": "ipython3",
   "version": "3.13.0"
  }
 },
 "nbformat": 4,
 "nbformat_minor": 5
}
